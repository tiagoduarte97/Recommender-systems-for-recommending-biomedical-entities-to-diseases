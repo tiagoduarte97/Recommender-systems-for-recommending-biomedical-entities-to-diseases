{
 "cells": [
  {
   "cell_type": "markdown",
   "id": "1c0f516b",
   "metadata": {},
   "source": [
    "Retrive the information that start with PMID or AU(Arthur names)"
   ]
  },
  {
   "cell_type": "code",
   "execution_count": null,
   "id": "80dbd02b",
   "metadata": {},
   "outputs": [],
   "source": [
    "def filtrar_artigos(arquivo_entrada, arquivo_saida):\n",
    "    with open(arquivo_entrada, 'r', encoding=\"utf8\") as entrada, open(arquivo_saida, 'w', encoding=\"utf8\") as saida:\n",
    "        for linha in entrada:\n",
    "            # Verifica se a linha começa com \"PMID\" ou \"AU\"\n",
    "            if linha.startswith(\"PMID\") or linha.startswith(\"AU \"):\n",
    "                saida.write(linha)\n",
    "\n",
    "# Caminho do arquivo de entrada\n",
    "arquivo_entrada = \"articles_Asperger syndrome.txt\"\n",
    "# Caminho para o arquivo de saída\n",
    "arquivo_saida = \"simple articles/articles_Asperger syndrome_PMID_AU.txt\"\n",
    "\n",
    "#filtrar_artigos(arquivo_entrada, arquivo_saida)"
   ]
  },
  {
   "cell_type": "markdown",
   "id": "919e2b07",
   "metadata": {},
   "source": [
    "PubMed ID (PMID) to Author (AU) Mapping and Data Combination"
   ]
  },
  {
   "cell_type": "code",
   "execution_count": null,
   "id": "56c3b6de",
   "metadata": {},
   "outputs": [],
   "source": [
    "def get_pmid_au_dict(pmid_au_file):\n",
    "    pmid_au_dict = {}\n",
    "    with open(pmid_au_file, 'r') as f:\n",
    "        lines = f.readlines()\n",
    "        i = 0\n",
    "        while i < len(lines):\n",
    "            pmid = lines[i].strip().split('- ')[-1]\n",
    "            i += 1\n",
    "            au_list = []\n",
    "            while i < len(lines) and not lines[i].startswith(\"PMID-\"):\n",
    "                if lines[i].startswith(\"AU\"):\n",
    "                    au = lines[i].strip().split(' - ')[-1]\n",
    "                    au_list.append(au)\n",
    "                i += 1\n",
    "            pmid_au_dict[pmid] = au_list\n",
    "    return pmid_au_dict\n",
    "\n",
    "def add_au_column(input_file, pmid_au_file, output_file):\n",
    "    pmid_au_dict = get_pmid_au_dict(pmid_au_file)\n",
    "\n",
    "    with open(input_file, 'r') as input, open(output_file, 'w') as output:\n",
    "        for line in input:\n",
    "            line = line.strip().split('\\t')\n",
    "            gene = line[0]\n",
    "            pmid = line[1]\n",
    "\n",
    "            au_list = pmid_au_dict.get(pmid, [\"AU not found\"])\n",
    "            for au in au_list:\n",
    "                output_line = f\"{gene}\\t{pmid}\\t{au}\\n\"\n",
    "                output.write(output_line)\n",
    "\n",
    "# Path to the input file with genes and PMIDs\n",
    "input_file = \"get_entities_results_names/articles_Asperger syndrome1.txt\"\n",
    "# Path to the file with the list of PMIDs and AUs\n",
    "pmid_au_file = \"simple articles/articles_Asperger syndrome_PMID_AU.txt\"\n",
    "# Path to the output file with combined information\n",
    "output_file = \"final_database_names/articles_Asperger syndrome2.txt\"\n",
    "\n",
    "add_au_column(input_file, pmid_au_file, output_file)"
   ]
  },
  {
   "cell_type": "markdown",
   "id": "ff64588e",
   "metadata": {},
   "source": [
    "Add Disease Name as Column in the Database"
   ]
  },
  {
   "cell_type": "code",
   "execution_count": null,
   "id": "1d5fc81a",
   "metadata": {},
   "outputs": [],
   "source": [
    "# Get the disease name\n",
    "disease = input(\"Enter the disease name: \")\n",
    "\n",
    "# Open the original text file for reading\n",
    "with open('final_database_names/articles_Asperger syndrome2.txt', 'r') as original_file:\n",
    "    # Open a new text file for writing\n",
    "    with open('final_database_names/articles_Asperger syndrome3.txt', 'w') as new_file:\n",
    "        # Iterate through the lines of the original file\n",
    "        for line in original_file:\n",
    "            # Split the line into columns separated by tab (\\t)\n",
    "            columns = line.strip().split('\\t')\n",
    "\n",
    "            # Add the disease name as a new column\n",
    "            columns.append(disease)\n",
    "\n",
    "            # Join the columns\n",
    "            new_line = '\\t'.join(columns)\n",
    "\n",
    "            # Write the new line to the new text file\n",
    "            new_file.write(new_line + '\\n')"
   ]
  },
  {
   "cell_type": "markdown",
   "id": "91f2d58b",
   "metadata": {},
   "source": [
    "Remove Duplicate Lines and Maintain Original Order"
   ]
  },
  {
   "cell_type": "code",
   "execution_count": null,
   "id": "1cf09b0b",
   "metadata": {},
   "outputs": [],
   "source": [
    "# Open the original text file for reading\n",
    "with open('final_database_names/articles_Asperger syndrome3.txt', 'r') as original_file:\n",
    "    # Create a set to store unique lines\n",
    "    unique_lines = set()\n",
    "\n",
    "    # Create an auxiliary list to maintain the original order of lines\n",
    "    auxiliary_lines = []\n",
    "\n",
    "    # Iterate through the lines of the original file\n",
    "    for line in original_file:\n",
    "        # Check if the line has not been added to unique lines\n",
    "        if line not in unique_lines:\n",
    "            # Add the line to the set and the auxiliary list\n",
    "            unique_lines.add(line)\n",
    "            auxiliary_lines.append(line)\n",
    "\n",
    "# Open a new text file for writing\n",
    "with open('final_database_names/articles_Asperger syndrome4.txt', 'w') as new_file:\n",
    "    # Write the lines in the original order to the new text file\n",
    "    for line in auxiliary_lines:\n",
    "        new_file.write(line)\n"
   ]
  },
  {
   "cell_type": "markdown",
   "id": "c605b559",
   "metadata": {},
   "source": [
    "Count Author Occurrences and Append Count as a New Column"
   ]
  },
  {
   "cell_type": "code",
   "execution_count": null,
   "id": "1d00d6a6",
   "metadata": {},
   "outputs": [],
   "source": [
    "# Open the original text file for reading\n",
    "with open('final_database_names/articles_Asperger syndrome4.txt', 'r') as original_file:\n",
    "    # Read all the lines from the original file\n",
    "    lines = original_file.readlines()\n",
    "\n",
    "    # Get the author name from the third column in each line\n",
    "    author_names = [line.strip().split('\\t')[2] for line in lines]\n",
    "\n",
    "    # Count the occurrences of each author name throughout the file\n",
    "    author_count = {name: author_names.count(name) for name in author_names}\n",
    "\n",
    "    # Open a new text file for writing\n",
    "    with open('final_database_names/articles_Asperger syndrome5.txt', 'w') as new_file:\n",
    "        # Iterate through the lines of the original file\n",
    "        for i, line in enumerate(lines):\n",
    "            # Split the line into columns separated by tab (\\t)\n",
    "            columns = line.strip().split('\\t')\n",
    "\n",
    "            # Get the author name from the third column\n",
    "            author_name = columns[2]\n",
    "\n",
    "            # Get the count for the author name\n",
    "            count = author_count[author_name]\n",
    "\n",
    "            # Add the count as a new column\n",
    "            columns.append(str(count))\n",
    "\n",
    "            # Join the columns\n",
    "            new_line = '\\t'.join(columns)\n",
    "\n",
    "            # Write the new line to the new text file\n",
    "            new_file.write(new_line + '\\n')"
   ]
  },
  {
   "cell_type": "markdown",
   "id": "e98c6156",
   "metadata": {},
   "source": [
    "Modify Column Order and Save as New File"
   ]
  },
  {
   "cell_type": "code",
   "execution_count": null,
   "id": "dca3b948",
   "metadata": {},
   "outputs": [],
   "source": [
    "import csv\n",
    "\n",
    "# Open the input file\n",
    "with open('final_database_names/articles_Asperger syndrome5.txt', 'r') as input_file:\n",
    "    csv_reader = csv.reader(input_file, delimiter='\\t')\n",
    "\n",
    "    # Create a list to store the lines from the file\n",
    "    lines = list(csv_reader)\n",
    "\n",
    "# Remove the second column from the lines\n",
    "for line in lines:\n",
    "    del line[1]\n",
    "\n",
    "# Rearrange the column order\n",
    "for line in lines:\n",
    "    line[0], line[1], line[2], line[3] = line[1], line[2], line[0], line[3]\n",
    "\n",
    "# Open an output file\n",
    "with open('final_database_names/articles_Asperger syndrome_final.txt', 'w', newline='') as output_file:\n",
    "    csv_writer = csv.writer(output_file, delimiter='\\t')\n",
    "\n",
    "    # Write the modified lines to the output file\n",
    "    for line in lines:\n",
    "        csv_writer.writerow(line)\n",
    "\n",
    "print(\"Done\")"
   ]
  },
  {
   "cell_type": "markdown",
   "id": "4ddb497b",
   "metadata": {},
   "source": [
    "Combine Text Files into a Single File"
   ]
  },
  {
   "cell_type": "code",
   "execution_count": null,
   "id": "638a67e9",
   "metadata": {},
   "outputs": [],
   "source": [
    "def combine_text_files(input_files, output_file):\n",
    "    with open(output_file, 'w') as outfile:\n",
    "        for file_name in input_files:\n",
    "            with open(file_name, 'r') as infile:\n",
    "                outfile.write(infile.read() + '\\n')\n",
    "\n",
    "# Example usage\n",
    "#input_files = ['final_database_names/articles_Asperger syndrome_final.txt', 'final_database_names/articles_atypical autism_final.txt', 'final_database_names/articles_autism spectrum disorder_final.txt', 'final_database_names/articles_autistic disorder_final.txt', 'final_database_names/articles_developmental disorder of mental health_final.txt', 'final_database_names/articles_disease of mental health_final.txt', 'final_database_names/articles_pervasive developmental disorder_final.txt']\n",
    "#output_file = 'all_articles_files_names.txt'\n",
    "#combine_text_files(input_files, output_file)"
   ]
  },
  {
   "cell_type": "markdown",
   "id": "633a4f6f",
   "metadata": {},
   "source": [
    "Remove all rows with an article_count equal to 1"
   ]
  },
  {
   "cell_type": "code",
   "execution_count": null,
   "id": "3f15de6c",
   "metadata": {},
   "outputs": [],
   "source": [
    "import pandas as pd\n",
    "\n",
    "# Replace 'path/to/your/file.csv' with the correct path to your CSV file\n",
    "file_path = 'all_articles_files_names_merge_final2.csv'\n",
    "\n",
    "# Read the CSV file\n",
    "df = pd.read_csv(file_path)\n",
    "\n",
    "# Filter rows with article_count greater than 1\n",
    "filtered_df = df[df['article_count'] > 1]\n",
    "\n",
    "# Replace 'new_file.csv' with the desired file name you want to save\n",
    "new_file_path = 'all_articles_files_names_merge_final3.csv'\n",
    "\n",
    "# Save the new dataset to the CSV file\n",
    "filtered_df.to_csv(new_file_path, index=False)"
   ]
  },
  {
   "cell_type": "markdown",
   "id": "37835ddc",
   "metadata": {},
   "source": [
    "Replacement of the 'article_count' column with 'n_articles' for the creation of a separate dataset"
   ]
  },
  {
   "cell_type": "code",
   "execution_count": null,
   "id": "85b617a5",
   "metadata": {},
   "outputs": [],
   "source": [
    "import pandas as pd\n",
    "\n",
    "# Replace 'your_dataset.csv' with your CSV file name or provide the full path to the file.\n",
    "df = pd.read_csv('all_articles_files_names_merge_final3.csv')\n",
    "\n",
    "# Split the 'author/disease' column into 'author' and 'disease'.\n",
    "df[['author', 'disease']] = df['author/disease'].str.split('/', 1, expand=True)\n",
    "\n",
    "# Group the data by author/disease and count the number of articles.\n",
    "df['n_articles'] = df.groupby(['author', 'disease'])['id'].transform('count')\n",
    "\n",
    "# Drop the 'article_count' column if you no longer need it.\n",
    "df = df.drop(columns=['article_count','author', 'disease'])\n",
    "\n",
    "# Save the DataFrame to a new CSV file.\n",
    "df.to_csv('all_articles_files_names_merge_final4.csv', index=False)\n"
   ]
  }
 ],
 "metadata": {
  "kernelspec": {
   "display_name": "Python 3 (ipykernel)",
   "language": "python",
   "name": "python3"
  },
  "language_info": {
   "codemirror_mode": {
    "name": "ipython",
    "version": 3
   },
   "file_extension": ".py",
   "mimetype": "text/x-python",
   "name": "python",
   "nbconvert_exporter": "python",
   "pygments_lexer": "ipython3",
   "version": "3.9.7"
  }
 },
 "nbformat": 4,
 "nbformat_minor": 5
}
