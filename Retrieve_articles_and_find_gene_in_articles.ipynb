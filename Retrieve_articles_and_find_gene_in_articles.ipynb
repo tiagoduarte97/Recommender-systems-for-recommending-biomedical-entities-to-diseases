{
 "cells": [
  {
   "cell_type": "markdown",
   "id": "f9bd0e88",
   "metadata": {},
   "source": [
    "Retrieve the articles from Pubmed"
   ]
  },
  {
   "cell_type": "code",
   "execution_count": null,
   "id": "3e390b86",
   "metadata": {},
   "outputs": [],
   "source": [
    "from Bio import Entrez\n",
    "\n",
    "# Use your own email address\n",
    "Entrez.email = \"email@example.com\"\n",
    "\n",
    "# Specify the search term and the database to search\n",
    "print(\"Enter disease name:\")\n",
    "term = input()\n",
    "handle = Entrez.esearch(db=\"pubmed\", term=term, retmax=10)\n",
    "\n",
    "# the search results\n",
    "search_results = Entrez.read(handle)\n",
    "handle.close()\n",
    "\n",
    "# Get the IDs of the articles\n",
    "article_ids = search_results[\"IdList\"]\n",
    "\n",
    "# Get the articles\n",
    "handle = Entrez.efetch(db=\"pubmed\", id=article_ids, rettype=\"medline\", retmode=\"json\")\n",
    "articles = handle.read()\n",
    "handle.close()\n",
    "\n",
    "# Print the articles\n",
    "print(articles)\n",
    "\n",
    "# Save the articles to a text file\n",
    "with open(\"articles.txt\", \"w\", encoding=\"utf-8\") as file:\n",
    "    file.write(articles)\n",
    "print(\"Articles saved to articles.txt\")"
   ]
  },
  {
   "cell_type": "code",
   "execution_count": null,
   "id": "af1d8b0d",
   "metadata": {},
   "outputs": [],
   "source": [
    "#!pip install spacy\n",
    "#!python -m spacy download en_core_web_sm"
   ]
  },
  {
   "cell_type": "markdown",
   "id": "d790b6b5",
   "metadata": {},
   "source": [
    "Named Entity Recognition and Entity Extraction using Custom Patterns with spaCy"
   ]
  },
  {
   "cell_type": "code",
   "execution_count": null,
   "id": "49ec4521",
   "metadata": {},
   "outputs": [],
   "source": [
    "import spacy\n",
    "\n",
    "# Load the English model\n",
    "nlp = spacy.load('en_core_web_sm')\n",
    "\n",
    "# Read the file with custom entity names\n",
    "with open('approved_name.txt', 'r') as f:\n",
    "    custom_entities = f.read().splitlines()\n",
    "\n",
    "# Create a custom entity component and add it to the model pipeline\n",
    "entity_matcher = nlp.add_pipe(\"entity_ruler\", before=\"ner\")\n",
    "patterns = [{\"label\": \"DISORDER\", \"pattern\": ent} for ent in custom_entities]\n",
    "entity_matcher.add_patterns(patterns)\n",
    "\n",
    "# Define the function to extract entities\n",
    "def get_entities(text, pmid):\n",
    "    # Process the text with the model\n",
    "    doc = nlp(text)\n",
    "    \n",
    "    # Extract entities with the label \"DISORDER\"\n",
    "    entities = []\n",
    "    for ent in doc.ents:\n",
    "        if ent.label_ == \"DISORDER\":\n",
    "            entities.append((ent.text, pmid))\n",
    "    \n",
    "    # Return the found entities\n",
    "    return entities\n",
    "\n",
    "# Load the text from a file\n",
    "with open('raw_articles/articles_pervasive developmental disorder.txt', 'r', encoding='utf-8') as f:\n",
    "    text = f.read()\n",
    "\n",
    "# Extract entities from the text\n",
    "chunk_size = 1000000 # number of characters in each chunk of text\n",
    "chunks = [text[i:i+chunk_size] for i in range(0, len(text), chunk_size)]\n",
    "\n",
    "all_entities = []\n",
    "current_pmid = None\n",
    "for chunk in chunks:\n",
    "    # Split the text into articles using the PMID- delimiter\n",
    "    articles = chunk.split(\"PMID- \")\n",
    "    for article in articles:\n",
    "        # Skip empty article\n",
    "        if not article:\n",
    "            continue\n",
    "        \n",
    "        # Extract the PMID from the article\n",
    "        pmid = article.split(\"\\n\")[0]\n",
    "        \n",
    "        # Update the current PMID\n",
    "        current_pmid = pmid\n",
    "        \n",
    "        # Extract entities from the article\n",
    "        entities = get_entities(article, current_pmid)\n",
    "        \n",
    "        # Add the found entities to the list\n",
    "        all_entities.extend(entities)\n",
    "\n",
    "# Write the found entities to a text file\n",
    "with open('get_entities_results_names/articles_pervasive developmental disorder1.txt', 'w') as f:\n",
    "    for entity in all_entities:\n",
    "        term, pmid = entity\n",
    "        f.write(f\"{term}\\t{pmid}\\n\")"
   ]
  }
 ],
 "metadata": {
  "kernelspec": {
   "display_name": "Python 3 (ipykernel)",
   "language": "python",
   "name": "python3"
  },
  "language_info": {
   "codemirror_mode": {
    "name": "ipython",
    "version": 3
   },
   "file_extension": ".py",
   "mimetype": "text/x-python",
   "name": "python",
   "nbconvert_exporter": "python",
   "pygments_lexer": "ipython3",
   "version": "3.9.7"
  }
 },
 "nbformat": 4,
 "nbformat_minor": 5
}
