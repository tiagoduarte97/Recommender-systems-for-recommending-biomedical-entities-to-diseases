{
 "cells": [
  {
   "cell_type": "code",
   "execution_count": 2,
   "id": "b23c9938",
   "metadata": {},
   "outputs": [
    {
     "name": "stdout",
     "output_type": "stream",
     "text": [
      "Average number of articles per author: 1.3677176863645855\n",
      "Median number of articles per author: 1.0\n",
      "Standard deviation of articles per author: 1.0944198744101261\n"
     ]
    }
   ],
   "source": [
    "#Análise descritiva:\n",
    "import pandas as pd\n",
    "\n",
    "# Carregar o dataset (substitua 'nome_do_arquivo.csv' pelo nome do seu arquivo)\n",
    "df = pd.read_csv('autor_gene_count.csv', names=['Author', 'Articles'])\n",
    "\n",
    "# Remover linhas que contenham valores não numéricos na coluna 'Artigos'\n",
    "df = df[pd.to_numeric(df['Articles'], errors='coerce').notnull()]\n",
    "\n",
    "# Converter a coluna 'Artigos' para valores inteiros\n",
    "df['Articles'] = df['Articles'].astype(int)\n",
    "\n",
    "# Estatísticas descritivas\n",
    "media_Articles = df['Articles'].mean()\n",
    "mediana_Articles = df['Articles'].median()\n",
    "desvio_padrao_Articles = df['Articles'].std()\n",
    "\n",
    "print(f\"Average number of articles per author: {media_Articles}\")\n",
    "print(f\"Median number of articles per author: {mediana_Articles}\")\n",
    "print(f\"Standard deviation of articles per author: {desvio_padrao_Articles}\")\n"
   ]
  },
  {
   "cell_type": "code",
   "execution_count": 4,
   "id": "e3ecbafc",
   "metadata": {},
   "outputs": [
    {
     "name": "stdout",
     "output_type": "stream",
     "text": [
      "Top 10 Author by number of articles:\n",
      "        Author  Articles\n",
      "8760    Wang Y        21\n",
      "4710      Li Y        21\n",
      "9356   Zhang Y        18\n",
      "4824     Liu X        17\n",
      "8756    Wang X        16\n",
      "2677  Gautel M        14\n",
      "566    Baron O        14\n",
      "6763    Ramm M        14\n",
      "7705   Singh K        14\n",
      "1089  Byrne SC        14\n"
     ]
    }
   ],
   "source": [
    "#Top autores por número de artigos:\n",
    "\n",
    "# Ordenar o DataFrame por número de artigos em ordem decrescente\n",
    "df_sorted = df.sort_values(by='Articles', ascending=False)\n",
    "\n",
    "# Mostrar os top N autores\n",
    "top_n = 10  # Defina o número de autores que deseja mostrar\n",
    "top_autores = df_sorted.head(top_n)\n",
    "\n",
    "print(f\"Top {top_n} Author by number of articles:\")\n",
    "print(top_autores)\n"
   ]
  },
  {
   "cell_type": "code",
   "execution_count": 3,
   "id": "6ba0a14f",
   "metadata": {},
   "outputs": [
    {
     "data": {
      "image/png": "[encoded data removed]",
      "text/plain": [
       "<Figure size 720x432 with 1 Axes>"
      ]
     },
     "metadata": {
      "needs_background": "light"
     },
     "output_type": "display_data"
    }
   ],
   "source": [
    "#Histograma:\n",
    "import matplotlib.pyplot as plt\n",
    "\n",
    "# Aumentar o tamanho da figura\n",
    "plt.figure(figsize=(10, 6))  # Defina o tamanho desejado (largura x altura)\n",
    "\n",
    "# Criar o histograma\n",
    "hist = plt.hist(df['Artigos'], bins=20, edgecolor='k')\n",
    "plt.xlabel('Numbers of articles')\n",
    "plt.ylabel('Frequencies')\n",
    "plt.title('Distribution of the Number of Articles per Author')\n",
    "\n",
    "# Adicionar os valores acima de cada barra\n",
    "for i in range(len(hist[0])):\n",
    "    count = hist[0][i]\n",
    "    x = hist[1][i]\n",
    "    y = hist[0][i]\n",
    "    plt.text(x + (hist[1][1] - hist[1][0]) / 2, y, str(count), ha='center', va='bottom')\n",
    "\n",
    "# Mostrar o gráfico\n",
    "plt.show()\n"
   ]
  },
  {
   "cell_type": "code",
   "execution_count": 5,
   "id": "bfa2804e",
   "metadata": {},
   "outputs": [
    {
     "data": {
      "text/plain": [
       "9578"
      ]
     },
     "execution_count": 5,
     "metadata": {},
     "output_type": "execute_result"
    }
   ],
   "source": [
    "df['Autor'].nunique()"
   ]
  },
  {
   "cell_type": "code",
   "execution_count": null,
   "id": "7c33fc61",
   "metadata": {},
   "outputs": [],
   "source": []
  }
 ],
 "metadata": {
  "kernelspec": {
   "display_name": "Python 3 (ipykernel)",
   "language": "python",
   "name": "python3"
  },
  "language_info": {
   "codemirror_mode": {
    "name": "ipython",
    "version": 3
   },
   "file_extension": ".py",
   "mimetype": "text/x-python",
   "name": "python",
   "nbconvert_exporter": "python",
   "pygments_lexer": "ipython3",
   "version": "3.9.7"
  }
 },
 "nbformat": 4,
 "nbformat_minor": 5
}
